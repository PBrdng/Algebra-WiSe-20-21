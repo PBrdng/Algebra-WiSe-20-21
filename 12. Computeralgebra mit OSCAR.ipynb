{
 "cells": [
  {
   "cell_type": "code",
   "execution_count": null,
   "metadata": {},
   "outputs": [],
   "source": [
    "using Pkg\n",
    "cd(\"/Users/pb/Documents/Lehre/Uni Kassel/Algebra/Algebra-WiSe-20-21\")\n",
    "Pkg.activate(\"Computeralgebra\");"
   ]
  },
  {
   "cell_type": "markdown",
   "metadata": {},
   "source": [
    "---\n",
    "# Computeralgebra mit OSCAR\n",
    "\n",
    "Das OSCAR Projekt entwickelt eine neues Open-Source Computeralgebra-System für Berechnungen in Algebra, Geometrie und Zahlentheorie.\n",
    "\n",
    "&emsp; https://oscar.computeralgebra.de\n",
    "\n",
    "OSCAR ist in der Programmiersprache **Julia** geschrieben.\n",
    "\n",
    "&emsp; https://julialang.org\n",
    "\n",
    "\n",
    "\n",
    "\n",
    "\n",
    "\n",
    "\n",
    "Dieses Notebook basiert auf Präsentationen von \n",
    "* Taylor Brysiewicz\n",
    "* Anna-Laura Sattelberger \n",
    "* Mima Stanojkovski\n",
    "* Rosa Winter \n",
    "\n",
    "Die originalen Jupyter-Notebooks sind unter \n",
    "\n",
    "&emsp; https://mathrepo.mis.mpg.de/OSCAR/\n",
    "\n",
    "zu finden.\n",
    "\n",
    "---"
   ]
  },
  {
   "cell_type": "markdown",
   "metadata": {},
   "source": [
    "Zunächst laden wir OSCAR in die aktuelle Julia Session."
   ]
  },
  {
   "cell_type": "code",
   "execution_count": 48,
   "metadata": {
    "scrolled": true
   },
   "outputs": [],
   "source": [
    "using Oscar"
   ]
  },
  {
   "cell_type": "markdown",
   "metadata": {},
   "source": [
    "---\n",
    "## Die symmetrische Gruppe\n"
   ]
  },
  {
   "cell_type": "markdown",
   "metadata": {},
   "source": [
    "Eine Permutation wird wie folgt definiert:"
   ]
  },
  {
   "cell_type": "code",
   "execution_count": 49,
   "metadata": {},
   "outputs": [
    {
     "data": {
      "text/plain": [
       "(1,2,3)(4,5)"
      ]
     },
     "execution_count": 49,
     "metadata": {},
     "output_type": "execute_result"
    }
   ],
   "source": [
    "perm([2,3,1,5,4])"
   ]
  },
  {
   "cell_type": "markdown",
   "metadata": {},
   "source": [
    "Wir können Produkte von Permutationen ausrechnen:"
   ]
  },
  {
   "cell_type": "code",
   "execution_count": 54,
   "metadata": {},
   "outputs": [],
   "source": [
    "s = perm([2,3,1,4,5]); t = perm\"(4,5)\";"
   ]
  },
  {
   "cell_type": "code",
   "execution_count": 55,
   "metadata": {},
   "outputs": [
    {
     "data": {
      "text/plain": [
       "(1,2,3)(4,5)"
      ]
     },
     "execution_count": 55,
     "metadata": {},
     "output_type": "execute_result"
    }
   ],
   "source": [
    "p = s * t"
   ]
  },
  {
   "cell_type": "code",
   "execution_count": 56,
   "metadata": {},
   "outputs": [
    {
     "data": {
      "text/plain": [
       "Cycle Decomposition: (1,2,3)(4,5)"
      ]
     },
     "execution_count": 56,
     "metadata": {},
     "output_type": "execute_result"
    }
   ],
   "source": [
    "cycles(p)"
   ]
  },
  {
   "cell_type": "code",
   "execution_count": 57,
   "metadata": {},
   "outputs": [
    {
     "data": {
      "text/html": [
       "((1,3,2), Cycle Decomposition: (1,3,2)(4)(5))"
      ],
      "text/plain": [
       "((1,3,2), Cycle Decomposition: (1,3,2)(4)(5))"
      ]
     },
     "execution_count": 57,
     "metadata": {},
     "output_type": "execute_result"
    }
   ],
   "source": [
    "p^2, cycles(p^2)"
   ]
  },
  {
   "cell_type": "code",
   "execution_count": 60,
   "metadata": {},
   "outputs": [
    {
     "data": {
      "text/html": [
       "$-1$"
      ],
      "text/latex": [
       "-1"
      ],
      "text/plain": [
       "-1"
      ]
     },
     "execution_count": 60,
     "metadata": {},
     "output_type": "execute_result"
    }
   ],
   "source": [
    "sign(p)"
   ]
  },
  {
   "cell_type": "code",
   "execution_count": 61,
   "metadata": {},
   "outputs": [
    {
     "data": {
      "text/html": [
       "($6$, $3$)"
      ],
      "text/plain": [
       "(6, 3)"
      ]
     },
     "execution_count": 61,
     "metadata": {},
     "output_type": "execute_result"
    }
   ],
   "source": [
    "order(p), order(p^2)"
   ]
  },
  {
   "cell_type": "markdown",
   "metadata": {},
   "source": [
    "---\n",
    "## Polynomring in einer Variablen\n",
    "\n",
    "Wir definieren den Polynomring $\\mathbb Q[x]$."
   ]
  },
  {
   "cell_type": "code",
   "execution_count": 62,
   "metadata": {},
   "outputs": [
    {
     "data": {
      "text/html": [
       "($R$, $x$)"
      ],
      "text/plain": [
       "(Univariate Polynomial Ring in x over Rational Field, x)"
      ]
     },
     "execution_count": 62,
     "metadata": {},
     "output_type": "execute_result"
    }
   ],
   "source": [
    "R, x = PolynomialRing(QQ, \"x\")"
   ]
  },
  {
   "cell_type": "markdown",
   "metadata": {},
   "source": [
    "Nun rechnen wir modulo einem Ideal $I=(f)$ in `R`."
   ]
  },
  {
   "cell_type": "code",
   "execution_count": 63,
   "metadata": {},
   "outputs": [
    {
     "data": {
      "text/html": [
       "($x^{2} - 2$, $x^{3} + x^{2} - 4$)"
      ],
      "text/plain": [
       "(x^2 - 2, x^3 + x^2 - 4)"
      ]
     },
     "execution_count": 63,
     "metadata": {},
     "output_type": "execute_result"
    }
   ],
   "source": [
    "f = x^2 - 2 \n",
    "g = x^3 + x^2 - 4\n",
    "f, g"
   ]
  },
  {
   "cell_type": "code",
   "execution_count": 64,
   "metadata": {},
   "outputs": [
    {
     "data": {
      "text/html": [
       "($x + 1$, $2x - 2$)"
      ],
      "text/plain": [
       "(x + 1, 2*x - 2)"
      ]
     },
     "execution_count": 64,
     "metadata": {},
     "output_type": "execute_result"
    }
   ],
   "source": [
    "I = f\n",
    "r = divrem(g, I)"
   ]
  },
  {
   "cell_type": "code",
   "execution_count": 65,
   "metadata": {},
   "outputs": [
    {
     "name": "stdout",
     "output_type": "stream",
     "text": [
      "g = 2*x - 2 mod (f)\n"
     ]
    }
   ],
   "source": [
    "println(\"g = $(r[2]) mod (f)\")"
   ]
  },
  {
   "cell_type": "markdown",
   "metadata": {},
   "source": [
    "---\n",
    "## Polynomring in zwei Variablen\n",
    "\n",
    "Wir definieren den Polynomring $\\mathbb Q[x, y]$."
   ]
  },
  {
   "cell_type": "code",
   "execution_count": 66,
   "metadata": {},
   "outputs": [
    {
     "data": {
      "text/html": [
       "[$x$, $y$]"
      ],
      "text/plain": [
       "2-element Array{fmpq_mpoly,1}:\n",
       " x\n",
       " y"
      ]
     },
     "execution_count": 66,
     "metadata": {},
     "output_type": "execute_result"
    }
   ],
   "source": [
    "R, z = PolynomialRing(QQ, [\"x\", \"y\"])\n",
    "x, y = z"
   ]
  },
  {
   "cell_type": "markdown",
   "metadata": {},
   "source": [
    "Nun rechnen wir modulo einem Ideal $I=(f_1)+(f_2)$ in `R`."
   ]
  },
  {
   "cell_type": "code",
   "execution_count": 67,
   "metadata": {},
   "outputs": [
    {
     "data": {
      "text/html": [
       "($x - 2y^{3}$, $y + 1$, $x^{2} + y^{2} - 2$)"
      ],
      "text/plain": [
       "(x - 2*y^3, y + 1, x^2 + y^2 - 2)"
      ]
     },
     "execution_count": 67,
     "metadata": {},
     "output_type": "execute_result"
    }
   ],
   "source": [
    "f₁ = x - 2 * y^3\n",
    "f₂ = y + 1\n",
    "g = x^2 + y^2 - 2\n",
    "f₁, f₂, g"
   ]
  },
  {
   "cell_type": "code",
   "execution_count": 68,
   "metadata": {},
   "outputs": [
    {
     "name": "stdout",
     "output_type": "stream",
     "text": [
      "g = 4*y^6 + y^2 - 2 mod (f₁)\n"
     ]
    }
   ],
   "source": [
    "I = [f₁]\n",
    "r = divrem(g, I)\n",
    "println(\"g = $(r[2]) mod (f₁)\")"
   ]
  },
  {
   "cell_type": "code",
   "execution_count": 69,
   "metadata": {},
   "outputs": [
    {
     "name": "stdout",
     "output_type": "stream",
     "text": [
      "g = 3 mod (f₁) + (f₂)\n"
     ]
    }
   ],
   "source": [
    "I = [f₁, f₂]\n",
    "r = divrem(g, I)\n",
    "println(\"g = $(r[2]) mod (f₁) + (f₂)\")"
   ]
  },
  {
   "cell_type": "markdown",
   "metadata": {},
   "source": [
    "---\n",
    "## Algebraische Körpererweiterungen"
   ]
  },
  {
   "cell_type": "markdown",
   "metadata": {},
   "source": [
    "Wir definieren den Polynomring $\\mathbb Q[x]$."
   ]
  },
  {
   "cell_type": "code",
   "execution_count": 70,
   "metadata": {},
   "outputs": [
    {
     "data": {
      "text/html": [
       "($R$, $x$)"
      ],
      "text/plain": [
       "(Univariate Polynomial Ring in x over Rational Field, x)"
      ]
     },
     "execution_count": 70,
     "metadata": {},
     "output_type": "execute_result"
    }
   ],
   "source": [
    "R, x = PolynomialRing(QQ, \"x\")"
   ]
  },
  {
   "cell_type": "markdown",
   "metadata": {},
   "source": [
    "Wir definieren die algebraische Körpererweiterung $\\mathbb Q(\\sqrt{2})$.\n",
    "\n",
    "Diese wird mit Hilfe des *Minimalpolynoms* von $\\sqrt{2}$ angegeben."
   ]
  },
  {
   "cell_type": "code",
   "execution_count": 71,
   "metadata": {},
   "outputs": [
    {
     "data": {
      "text/html": [
       "($K$, $a$)"
      ],
      "text/plain": [
       "(Number field over Rational Field with defining polynomial x^2 - 2, a)"
      ]
     },
     "execution_count": 71,
     "metadata": {},
     "output_type": "execute_result"
    }
   ],
   "source": [
    "K, a = NumberField(x^2 - 2, \"a\")"
   ]
  },
  {
   "cell_type": "markdown",
   "metadata": {},
   "source": [
    "Der Befehl `NumberField` gibt zwei Argumente zurück: \n",
    "\n",
    "`K` ist der Körper $\\mathbb Q(\\sqrt{2})$ und `a` ist gleich $\\sqrt{2}$."
   ]
  },
  {
   "cell_type": "code",
   "execution_count": 72,
   "metadata": {},
   "outputs": [
    {
     "data": {
      "text/html": [
       "$\\text{Number field over Rational field with defining polynomial }x^{2} - 2$"
      ],
      "text/plain": [
       "Number field over Rational Field with defining polynomial x^2 - 2"
      ]
     },
     "execution_count": 72,
     "metadata": {},
     "output_type": "execute_result"
    }
   ],
   "source": [
    "K"
   ]
  },
  {
   "cell_type": "code",
   "execution_count": 73,
   "metadata": {},
   "outputs": [
    {
     "data": {
      "text/html": [
       "$2$"
      ],
      "text/latex": [
       "2"
      ],
      "text/plain": [
       "2"
      ]
     },
     "execution_count": 73,
     "metadata": {},
     "output_type": "execute_result"
    }
   ],
   "source": [
    "a^2"
   ]
  },
  {
   "cell_type": "markdown",
   "metadata": {},
   "source": [
    "Das Minimalpolynom von `a` ist:"
   ]
  },
  {
   "cell_type": "code",
   "execution_count": 77,
   "metadata": {},
   "outputs": [
    {
     "data": {
      "text/html": [
       "$x^{2} - 2$"
      ],
      "text/latex": [
       "x^{2} - 2"
      ],
      "text/plain": [
       "x^2 - 2"
      ]
     },
     "execution_count": 77,
     "metadata": {},
     "output_type": "execute_result"
    }
   ],
   "source": [
    "minpoly(a)"
   ]
  },
  {
   "cell_type": "markdown",
   "metadata": {},
   "source": [
    "Der Grad von $K$ ist"
   ]
  },
  {
   "cell_type": "code",
   "execution_count": 78,
   "metadata": {},
   "outputs": [
    {
     "data": {
      "text/html": [
       "$2$"
      ],
      "text/latex": [
       "2"
      ],
      "text/plain": [
       "2"
      ]
     },
     "execution_count": 78,
     "metadata": {},
     "output_type": "execute_result"
    }
   ],
   "source": [
    "degree(K)"
   ]
  },
  {
   "cell_type": "markdown",
   "metadata": {},
   "source": [
    "Wir müssen den Namen `\"a\"` nicht angeben. "
   ]
  },
  {
   "cell_type": "code",
   "execution_count": 79,
   "metadata": {},
   "outputs": [
    {
     "data": {
      "text/html": [
       "($\\text{Number field over Rational field with defining polynomial }x^{8} - 21x^{6} + 84x^{4} - 105x^{2} + 25$, $\\alpha$)"
      ],
      "text/plain": [
       "(Number field over Rational Field with defining polynomial x^8 - 21*x^6 + 84*x^4 - 105*x^2 + 25, _a)"
      ]
     },
     "execution_count": 79,
     "metadata": {},
     "output_type": "execute_result"
    }
   ],
   "source": [
    "N = NumberField(x^8 - 21*x^6 + 84*x^4 - 105*x^2 + 25)"
   ]
  },
  {
   "cell_type": "code",
   "execution_count": null,
   "metadata": {},
   "outputs": [],
   "source": [
    "N"
   ]
  },
  {
   "cell_type": "code",
   "execution_count": 81,
   "metadata": {},
   "outputs": [
    {
     "data": {
      "text/html": [
       "[$1$, $\\alpha$, $\\alpha^{2}$, $\\alpha^{3}$, $\\alpha^{4}$, $\\alpha^{5}$, $\\alpha^{6}$, $\\alpha^{7}$]"
      ],
      "text/plain": [
       "8-element Array{nf_elem,1}:\n",
       " 1\n",
       " _a\n",
       " _a^2\n",
       " _a^3\n",
       " _a^4\n",
       " _a^5\n",
       " _a^6\n",
       " _a^7"
      ]
     },
     "execution_count": 81,
     "metadata": {},
     "output_type": "execute_result"
    }
   ],
   "source": [
    "basis(N[1])"
   ]
  },
  {
   "cell_type": "markdown",
   "metadata": {},
   "source": [
    "### Körpererweiterungen mit mehreren Erzeugern"
   ]
  },
  {
   "cell_type": "markdown",
   "metadata": {},
   "source": [
    "Wir können mehrere Nullstellen adjungieren:"
   ]
  },
  {
   "cell_type": "code",
   "execution_count": 82,
   "metadata": {},
   "outputs": [],
   "source": [
    "L, b = NumberField([x^2-2, x^2-3, x^2-5], [\"a₁\", \"a₂\", \"a₃\"]);"
   ]
  },
  {
   "cell_type": "code",
   "execution_count": 85,
   "metadata": {},
   "outputs": [
    {
     "data": {
      "text/plain": [
       "8-element Array{NfAbsNSElem,1}:\n",
       " 1\n",
       " a₁\n",
       " a₂\n",
       " a₁*a₂\n",
       " a₃\n",
       " a₁*a₃\n",
       " a₂*a₃\n",
       " a₁*a₂*a₃"
      ]
     },
     "execution_count": 85,
     "metadata": {},
     "output_type": "execute_result"
    }
   ],
   "source": [
    "basis(L)"
   ]
  },
  {
   "cell_type": "code",
   "execution_count": 86,
   "metadata": {},
   "outputs": [
    {
     "data": {
      "text/html": [
       "$x^{4} - 22x^{2} + 1$"
      ],
      "text/latex": [
       "x^{4} - 22x^{2} + 1"
      ],
      "text/plain": [
       "x^4 - 22*x^2 + 1"
      ]
     },
     "execution_count": 86,
     "metadata": {},
     "output_type": "execute_result"
    }
   ],
   "source": [
    "minpoly(b[1] * b[2] - b[3])"
   ]
  },
  {
   "cell_type": "markdown",
   "metadata": {},
   "source": [
    "Wir berechnen ein Polynom $f$, sodass $L\\cong \\mathbb Q[x]/(f)$: "
   ]
  },
  {
   "cell_type": "code",
   "execution_count": 87,
   "metadata": {},
   "outputs": [
    {
     "data": {
      "text/html": [
       "($S$, $β: S\\to L$)"
      ],
      "text/plain": [
       "(Number field over Rational Field with defining polynomial x^8 - 40*x^6 + 352*x^4 - 960*x^2 + 576, Map with following data\n",
       "Domain:\n",
       "=======\n",
       "S\n",
       "Codomain:\n",
       "=========\n",
       "L\n",
       ")"
      ]
     },
     "execution_count": 87,
     "metadata": {},
     "output_type": "execute_result"
    }
   ],
   "source": [
    "S, β = simple_extension(L)"
   ]
  },
  {
   "cell_type": "code",
   "execution_count": 88,
   "metadata": {},
   "outputs": [
    {
     "data": {
      "text/html": [
       "$\\text{Number field over Rational field with defining polynomial }x^{8} - 40x^{6} + 352x^{4} - 960x^{2} + 576$"
      ],
      "text/plain": [
       "Number field over Rational Field with defining polynomial x^8 - 40*x^6 + 352*x^4 - 960*x^2 + 576"
      ]
     },
     "execution_count": 88,
     "metadata": {},
     "output_type": "execute_result"
    }
   ],
   "source": [
    "S"
   ]
  },
  {
   "cell_type": "markdown",
   "metadata": {},
   "source": [
    "Der Erzeuger von `S` ist:"
   ]
  },
  {
   "cell_type": "code",
   "execution_count": 89,
   "metadata": {},
   "outputs": [
    {
     "data": {
      "text/html": [
       "$\\alpha$"
      ],
      "text/latex": [
       "_ a"
      ],
      "text/plain": [
       "_a"
      ]
     },
     "execution_count": 89,
     "metadata": {},
     "output_type": "execute_result"
    }
   ],
   "source": [
    "gen(S)"
   ]
  },
  {
   "cell_type": "markdown",
   "metadata": {},
   "source": [
    "Das Minimalpolynom `f` ist gleich:"
   ]
  },
  {
   "cell_type": "code",
   "execution_count": 94,
   "metadata": {},
   "outputs": [
    {
     "data": {
      "text/html": [
       "$x^{8} - 40x^{6} + 352x^{4} - 960x^{2} + 576$"
      ],
      "text/latex": [
       "x^{8} - 40x^{6} + 352x^{4} - 960x^{2} + 576"
      ],
      "text/plain": [
       "x^8 - 40*x^6 + 352*x^4 - 960*x^2 + 576"
      ]
     },
     "execution_count": 94,
     "metadata": {},
     "output_type": "execute_result"
    }
   ],
   "source": [
    "minpoly(gen(S))"
   ]
  },
  {
   "cell_type": "markdown",
   "metadata": {},
   "source": [
    "Wir testen: der Grad $[S:\\mathbb Q]$ ist gleich"
   ]
  },
  {
   "cell_type": "code",
   "execution_count": 95,
   "metadata": {},
   "outputs": [
    {
     "data": {
      "text/html": [
       "$8$"
      ],
      "text/latex": [
       "8"
      ],
      "text/plain": [
       "8"
      ]
     },
     "execution_count": 95,
     "metadata": {},
     "output_type": "execute_result"
    }
   ],
   "source": [
    "degree(S)"
   ]
  },
  {
   "cell_type": "markdown",
   "metadata": {},
   "source": [
    "$K$ ist ein Teilkörper von $S$:"
   ]
  },
  {
   "cell_type": "code",
   "execution_count": 97,
   "metadata": {},
   "outputs": [
    {
     "data": {
      "text/html": [
       "(true, $\\text{Map from }K\\to S$)"
      ],
      "text/plain": [
       "(true, Injection of Number field over Rational Field with defining polynomial x^2 - 2 into Number field over Rational Field with defining polynomial x^8 - 40*x^6 + 352*x^4 - 960*x^2 + 576\n",
       "defined by a -> -1//576*_a^7 + 7//144*_a^5 + 7//72*_a^3 - 5//3*_a\n",
       ")"
      ]
     },
     "execution_count": 97,
     "metadata": {},
     "output_type": "execute_result"
    }
   ],
   "source": [
    "issubfield(K,S)"
   ]
  },
  {
   "cell_type": "markdown",
   "metadata": {},
   "source": [
    "---\n",
    "### Kreisteilungskörper\n",
    "\n",
    "Kreisteilungskörper sind in OSCAR implementiert.\n",
    "\n",
    "Wir betrachten die Kreisteilungskörper $\\mathbb Q(\\zeta)$ für eine dritte Einheitswurzel $\\zeta = \\exp(2\\pi i/3)$.\n",
    "\n",
    "Das Minimalpolynom von $\\zeta$ ist $x^2 + x + 1 = (x^3 - 1) \\,/\\, (x - 1)$."
   ]
  },
  {
   "cell_type": "code",
   "execution_count": 98,
   "metadata": {},
   "outputs": [],
   "source": [
    "C, ζ = cyclotomic_field(3);\n",
    "C₂, ξ = NumberField(x^2 + x + 1); "
   ]
  },
  {
   "cell_type": "code",
   "execution_count": 99,
   "metadata": {},
   "outputs": [
    {
     "data": {
      "text/html": [
       "($1$, $1$)"
      ],
      "text/plain": [
       "(1, 1)"
      ]
     },
     "execution_count": 99,
     "metadata": {},
     "output_type": "execute_result"
    }
   ],
   "source": [
    "ζ^3, ξ^3"
   ]
  },
  {
   "cell_type": "code",
   "execution_count": 100,
   "metadata": {},
   "outputs": [
    {
     "data": {
      "text/html": [
       "true"
      ],
      "text/latex": [
       "true"
      ],
      "text/plain": [
       "true"
      ]
     },
     "execution_count": 100,
     "metadata": {},
     "output_type": "execute_result"
    }
   ],
   "source": [
    "I = isisomorphic(C,C₂)\n",
    "I[1]"
   ]
  },
  {
   "cell_type": "markdown",
   "metadata": {},
   "source": [
    "### Galois Gruppen"
   ]
  },
  {
   "cell_type": "markdown",
   "metadata": {},
   "source": [
    "Wir definieren zunächst eine Körpererweiterung, die keine Galois-Erweiterung ist."
   ]
  },
  {
   "cell_type": "code",
   "execution_count": 101,
   "metadata": {},
   "outputs": [
    {
     "data": {
      "text/html": [
       "$3$"
      ],
      "text/latex": [
       "3"
      ],
      "text/plain": [
       "3"
      ]
     },
     "execution_count": 101,
     "metadata": {},
     "output_type": "execute_result"
    }
   ],
   "source": [
    "K, a = NumberField(x^3 - 2, \"a\");\n",
    "degree(K)"
   ]
  },
  {
   "cell_type": "markdown",
   "metadata": {},
   "source": [
    "Die $\\mathbb Q$-Automorphismen von $K$ sind:"
   ]
  },
  {
   "cell_type": "code",
   "execution_count": 102,
   "metadata": {},
   "outputs": [
    {
     "data": {
      "text/html": [
       "[$\\text{Map from }K\\to K$]"
      ],
      "text/plain": [
       "1-element Array{NfToNfMor,1}:\n",
       " Automorphism of Number field over Rational Field with defining polynomial x^3 - 2\n",
       "defined by a -> a\n"
      ]
     },
     "execution_count": 102,
     "metadata": {},
     "output_type": "execute_result"
    }
   ],
   "source": [
    "Aut = automorphisms(K)"
   ]
  },
  {
   "cell_type": "code",
   "execution_count": 103,
   "metadata": {},
   "outputs": [
    {
     "data": {
      "text/html": [
       "$1$"
      ],
      "text/latex": [
       "1"
      ],
      "text/plain": [
       "1"
      ]
     },
     "execution_count": 103,
     "metadata": {},
     "output_type": "execute_result"
    }
   ],
   "source": [
    "length(Aut)"
   ]
  },
  {
   "cell_type": "code",
   "execution_count": 104,
   "metadata": {},
   "outputs": [
    {
     "data": {
      "text/html": [
       "[$a$]"
      ],
      "text/plain": [
       "1-element Array{nf_elem,1}:\n",
       " a"
      ]
     },
     "execution_count": 104,
     "metadata": {},
     "output_type": "execute_result"
    }
   ],
   "source": [
    "[g(a) for g in Aut]"
   ]
  },
  {
   "cell_type": "markdown",
   "metadata": {},
   "source": [
    "Wir wollen den Zerfällungskörper $L$ von $x^3 - 2$ berechnen:"
   ]
  },
  {
   "cell_type": "code",
   "execution_count": 105,
   "metadata": {},
   "outputs": [
    {
     "data": {
      "text/html": [
       "$6$"
      ],
      "text/latex": [
       "6"
      ],
      "text/plain": [
       "6"
      ]
     },
     "execution_count": 105,
     "metadata": {},
     "output_type": "execute_result"
    }
   ],
   "source": [
    "L = splitting_field(x^3 - 2);\n",
    "degree(L)"
   ]
  },
  {
   "cell_type": "markdown",
   "metadata": {},
   "source": [
    "Die Galois-Gruppe von $L$ ist dann: "
   ]
  },
  {
   "cell_type": "code",
   "execution_count": 106,
   "metadata": {},
   "outputs": [
    {
     "data": {
      "text/html": [
       "$6$"
      ],
      "text/latex": [
       "6"
      ],
      "text/plain": [
       "6"
      ]
     },
     "execution_count": 106,
     "metadata": {},
     "output_type": "execute_result"
    }
   ],
   "source": [
    "G = automorphisms(L)\n",
    "length(G)"
   ]
  },
  {
   "cell_type": "code",
   "execution_count": 107,
   "metadata": {},
   "outputs": [
    {
     "data": {
      "text/html": [
       "[$x$, $-\\frac{1}{12}x^{4} - \\frac{1}{2}x$, $\\frac{1}{12}x^{4} - \\frac{1}{2}x$, $-x$, $-\\frac{1}{12}x^{4} + \\frac{1}{2}x$, $\\frac{1}{12}x^{4} + \\frac{1}{2}x$]"
      ],
      "text/plain": [
       "6-element Array{nf_elem,1}:\n",
       " x\n",
       " -1//12*x^4 - 1//2*x\n",
       " 1//12*x^4 - 1//2*x\n",
       " -x\n",
       " -1//12*x^4 + 1//2*x\n",
       " 1//12*x^4 + 1//2*x"
      ]
     },
     "execution_count": 107,
     "metadata": {},
     "output_type": "execute_result"
    }
   ],
   "source": [
    "b = gen(L)\n",
    "[g(b) for g in G]"
   ]
  },
  {
   "cell_type": "markdown",
   "metadata": {},
   "source": [
    "Das Minimalpolynom von $b$ ist"
   ]
  },
  {
   "cell_type": "code",
   "execution_count": 108,
   "metadata": {},
   "outputs": [
    {
     "data": {
      "text/html": [
       "$x^{6} + 108$"
      ],
      "text/latex": [
       "x^{6} + 108"
      ],
      "text/plain": [
       "x^6 + 108"
      ]
     },
     "execution_count": 108,
     "metadata": {},
     "output_type": "execute_result"
    }
   ],
   "source": [
    "minpoly(b)"
   ]
  },
  {
   "cell_type": "code",
   "execution_count": 109,
   "metadata": {},
   "outputs": [
    {
     "data": {
      "text/html": [
       "($\\text{Number field over Rational field with defining polynomial }x^{6} + 108$, $\\alpha$)"
      ],
      "text/plain": [
       "(Number field over Rational Field with defining polynomial x^6 + 108, _a)"
      ]
     },
     "execution_count": 109,
     "metadata": {},
     "output_type": "execute_result"
    }
   ],
   "source": [
    "T = NumberField(x^6 + 108)"
   ]
  },
  {
   "cell_type": "code",
   "execution_count": 111,
   "metadata": {},
   "outputs": [
    {
     "data": {
      "text/html": [
       "$6$"
      ],
      "text/latex": [
       "6"
      ],
      "text/plain": [
       "6"
      ]
     },
     "execution_count": 111,
     "metadata": {},
     "output_type": "execute_result"
    }
   ],
   "source": [
    "degree(T[1])"
   ]
  },
  {
   "cell_type": "code",
   "execution_count": 113,
   "metadata": {},
   "outputs": [
    {
     "data": {
      "text/html": [
       "$6$"
      ],
      "text/latex": [
       "6"
      ],
      "text/plain": [
       "6"
      ]
     },
     "execution_count": 113,
     "metadata": {},
     "output_type": "execute_result"
    }
   ],
   "source": [
    "length(automorphisms(T[1]))"
   ]
  },
  {
   "cell_type": "code",
   "execution_count": null,
   "metadata": {},
   "outputs": [],
   "source": []
  }
 ],
 "metadata": {
  "kernelspec": {
   "display_name": "Julia 1.5.3",
   "language": "julia",
   "name": "julia-1.5"
  },
  "language_info": {
   "file_extension": ".jl",
   "mimetype": "application/julia",
   "name": "julia",
   "version": "1.5.3"
  }
 },
 "nbformat": 4,
 "nbformat_minor": 4
}
